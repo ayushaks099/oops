{
 "cells": [
  {
   "cell_type": "code",
   "execution_count": 2,
   "id": "7eb40183-bf4a-45d9-b67e-1d38bb59dee0",
   "metadata": {},
   "outputs": [
    {
     "name": "stdout",
     "output_type": "stream",
     "text": [
      "<class 'int'>\n"
     ]
    }
   ],
   "source": [
    "a=1\n",
    "print(type(a))"
   ]
  },
  {
   "cell_type": "code",
   "execution_count": 7,
   "id": "cf8bf99e-d767-4a31-93fc-914fc6dc1b46",
   "metadata": {},
   "outputs": [],
   "source": [
    "class pwskills:\n",
    "  def welcome_msg(self):\n",
    "    print(\"welcome to pwskills\")\n",
    "        "
   ]
  },
  {
   "cell_type": "code",
   "execution_count": 8,
   "id": "7a42680b-93f7-4fd2-9781-eb1a26024063",
   "metadata": {},
   "outputs": [],
   "source": [
    "ayush=pwskills()"
   ]
  },
  {
   "cell_type": "code",
   "execution_count": 9,
   "id": "e7017afb-d246-4811-a27f-9d242735512f",
   "metadata": {},
   "outputs": [
    {
     "name": "stdout",
     "output_type": "stream",
     "text": [
      "<class '__main__.pwskills'>\n"
     ]
    }
   ],
   "source": [
    "print(type(ayush))"
   ]
  },
  {
   "cell_type": "code",
   "execution_count": 10,
   "id": "0618ab30-4faf-49af-a0b5-f9d7d7973019",
   "metadata": {},
   "outputs": [
    {
     "name": "stdout",
     "output_type": "stream",
     "text": [
      "welcome to pwskills\n"
     ]
    }
   ],
   "source": [
    "ayush.welcome_msg()"
   ]
  },
  {
   "cell_type": "code",
   "execution_count": 12,
   "id": "5cfbdd0f-94de-49e1-92ca-633f205c1a02",
   "metadata": {},
   "outputs": [
    {
     "name": "stdout",
     "output_type": "stream",
     "text": [
      "welcome to pwskills\n"
     ]
    }
   ],
   "source": [
    "sudh=pwskills()\n",
    "sudh.welcome_msg()"
   ]
  },
  {
   "cell_type": "code",
   "execution_count": 29,
   "id": "d9f441a9-99d3-4cf7-b7f4-37cc1edaf9f2",
   "metadata": {},
   "outputs": [],
   "source": [
    "class pwskills1:\n",
    "    def __init__(self,phone_no,email_id,student_id):\n",
    "        self.phone_no=phone_no\n",
    "        self.email_id=email_id\n",
    "        self.student_id=student_id\n",
    "    def return_student_details(self):\n",
    "        return self.student_id,self.phone_no,self.email_id\n",
    "    "
   ]
  },
  {
   "cell_type": "code",
   "execution_count": 30,
   "id": "4715af4c-c043-4d96-8f52-0775f4e52cfb",
   "metadata": {},
   "outputs": [],
   "source": [
    "ayush=pwskills1(6290591230,\"ayushaks099@gmail.com\",1)"
   ]
  },
  {
   "cell_type": "code",
   "execution_count": 31,
   "id": "2091824f-5f0a-4270-9edb-9f47b92dd642",
   "metadata": {},
   "outputs": [
    {
     "data": {
      "text/plain": [
       "(1, 6290591230, 'ayushaks099@gmail.com')"
      ]
     },
     "execution_count": 31,
     "metadata": {},
     "output_type": "execute_result"
    }
   ],
   "source": [
    "ayush.return_student_details()"
   ]
  },
  {
   "cell_type": "code",
   "execution_count": null,
   "id": "019699f7-6511-427a-b053-0ede60b4b9e7",
   "metadata": {},
   "outputs": [],
   "source": []
  },
  {
   "cell_type": "code",
   "execution_count": null,
   "id": "588c6415-c00b-4f00-98e3-71938f0436e3",
   "metadata": {},
   "outputs": [],
   "source": []
  },
  {
   "cell_type": "code",
   "execution_count": 32,
   "id": "9967acde-b8d0-4e48-a6b1-c6887a7731ca",
   "metadata": {},
   "outputs": [
    {
     "data": {
      "text/plain": [
       "(1, 6290591230, 'ayushaks099@gmail.com')"
      ]
     },
     "execution_count": 32,
     "metadata": {},
     "output_type": "execute_result"
    }
   ],
   "source": [
    "ayush.return_student_details()\n"
   ]
  },
  {
   "cell_type": "code",
   "execution_count": 33,
   "id": "5387d740-dba4-4177-bed7-49cd99f5cb9d",
   "metadata": {},
   "outputs": [
    {
     "data": {
      "text/plain": [
       "'ayushaks099@gmail.com'"
      ]
     },
     "execution_count": 33,
     "metadata": {},
     "output_type": "execute_result"
    }
   ],
   "source": [
    "ayush.email_id"
   ]
  },
  {
   "cell_type": "code",
   "execution_count": null,
   "id": "627e02fc-f8c9-409d-9314-4cc5ea88b389",
   "metadata": {},
   "outputs": [],
   "source": []
  }
 ],
 "metadata": {
  "kernelspec": {
   "display_name": "Python 3 (ipykernel)",
   "language": "python",
   "name": "python3"
  },
  "language_info": {
   "codemirror_mode": {
    "name": "ipython",
    "version": 3
   },
   "file_extension": ".py",
   "mimetype": "text/x-python",
   "name": "python",
   "nbconvert_exporter": "python",
   "pygments_lexer": "ipython3",
   "version": "3.10.8"
  }
 },
 "nbformat": 4,
 "nbformat_minor": 5
}
